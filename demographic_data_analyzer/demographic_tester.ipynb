{
 "cells": [
  {
   "cell_type": "code",
   "execution_count": null,
   "metadata": {},
   "outputs": [],
   "source": [
    "import pandas as pd\n",
    "df = pd.read_csv(\"adult.data.csv\")"
   ]
  },
  {
   "cell_type": "code",
   "execution_count": null,
   "metadata": {},
   "outputs": [],
   "source": [
    "# How many of each race are represented in this dataset? This should be a Pandas series with race names as the index labels.\n",
    "race_count = pd.Series(df[\"race\"].value_counts())\n",
    "race_count"
   ]
  },
  {
   "cell_type": "code",
   "execution_count": null,
   "metadata": {},
   "outputs": [],
   "source": [
    "#What is the average age of men?\n",
    "average_age_men = df.loc[df['sex'] == \"Male\", 'age'].mean()\n",
    "average_age_men"
   ]
  },
  {
   "cell_type": "code",
   "execution_count": null,
   "metadata": {},
   "outputs": [],
   "source": [
    "#What is the percentage of people who have a Bachelor's degree?\n",
    "percentage_bachelors = round(len(df.loc[df['education'] == \"Bachelors\"]) / len(df) * 100, 2)\n",
    "percentage_bachelors"
   ]
  },
  {
   "cell_type": "code",
   "execution_count": null,
   "metadata": {},
   "outputs": [],
   "source": [
    "#Number of people with higher education\n",
    "higher_ed_number = df['education'].str.contains('Bachelors|Masters|Doctorate').sum()\n",
    "print('higher ed number', higher_ed_number)\n",
    "\n",
    "#Number of people who make more than 50k\n",
    "rich_number = df['salary'].value_counts()['>50K']\n",
    "print('rich number', rich_number)\n",
    "\n",
    "\n",
    "#Find the number of people with advanced education who also make more than 50K\n",
    "\n",
    "higher_ed_rich_number = df.loc[df['education'].str.contains('Bachelors|Masters|Doctorate') & df['salary'].str.contains('>50K')].shape[0]\n",
    "higher_ed_rich_percent = round(higher_ed_rich_number / higher_ed_number * 100, 1)\n",
    "higher_ed_rich_percent"
   ]
  },
  {
   "cell_type": "code",
   "execution_count": null,
   "metadata": {},
   "outputs": [],
   "source": [
    "# Get number of people without advanced education\n",
    "lower_ed_number = df.loc[~df['education'].str.contains('Bachelors|Masters|Doctorate')].shape[0]\n",
    "lower_ed_also_50k_number = df.loc[~df['education'].str.contains('Bachelors|Masters|Doctorate') & df['salary'].str.contains('>50K')].shape[0]\n",
    "lower_education_rich = round((lower_ed_also_50k_number / lower_ed_number) * 100, 1)\n"
   ]
  },
  {
   "cell_type": "code",
   "execution_count": null,
   "metadata": {},
   "outputs": [],
   "source": [
    "#minimum number of hours a person works per week?\n",
    "df['hours-per-week'].min()"
   ]
  },
  {
   "cell_type": "code",
   "execution_count": null,
   "metadata": {},
   "outputs": [],
   "source": [
    "#Percentage of the people who work the minimum number of hours per week have a salary of more than 50K:\")\n",
    "df.loc[df['hours-per-week'] == df['hours-per-week'].min(), 'salary'].value_counts(normalize=True)['>50K'] * 100"
   ]
  },
  {
   "cell_type": "code",
   "execution_count": null,
   "metadata": {},
   "outputs": [],
   "source": [
    "#What country has the highest percentage of people that earn >50K and what is that percentage?\n",
    "\n",
    "df2 = df.loc[df['salary'].str.contains('>50K'), 'native-country'].value_counts()\n",
    "df3 = df['native-country'].value_counts()\n",
    "df4 = df2 / df3 * 100\n",
    "\n",
    "highest_earning_country = df4.sort_values(ascending=False).head(1).index[0]\n",
    "\n",
    "highest_earning_country_percentage =  round(df4.sort_values(ascending=False).head(1).values[0], 1)"
   ]
  },
  {
   "cell_type": "code",
   "execution_count": null,
   "metadata": {},
   "outputs": [],
   "source": [
    "#Identify the most popular occupation for those who earn >50K in India.\n",
    "a = df.loc[(df['salary'].str.contains('>50K')) & (df['native-country'].str.contains('India')), 'occupation'].value_counts().head(1)\n",
    "a.index[0]"
   ]
  },
  {
   "cell_type": "code",
   "execution_count": null,
   "metadata": {},
   "outputs": [],
   "source": [
    "#list all occupations\n",
    "df['occupation']"
   ]
  },
  {
   "cell_type": "code",
   "execution_count": null,
   "metadata": {},
   "outputs": [],
   "source": [
    "# get data info\n",
    "df.info"
   ]
  }
 ],
 "metadata": {
  "kernelspec": {
   "display_name": "Python 3",
   "language": "python",
   "name": "python3"
  },
  "language_info": {
   "codemirror_mode": {
    "name": "ipython",
    "version": 3
   },
   "file_extension": ".py",
   "mimetype": "text/x-python",
   "name": "python",
   "nbconvert_exporter": "python",
   "pygments_lexer": "ipython3",
   "version": "3.11.5"
  }
 },
 "nbformat": 4,
 "nbformat_minor": 2
}
