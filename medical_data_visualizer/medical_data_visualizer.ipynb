{
 "cells": [
  {
   "cell_type": "code",
   "execution_count": null,
   "metadata": {},
   "outputs": [],
   "source": [
    "import pandas as pd\n",
    "import seaborn as sns\n",
    "import matplotlib.pyplot as plt\n",
    "import numpy as np"
   ]
  },
  {
   "cell_type": "code",
   "execution_count": null,
   "metadata": {},
   "outputs": [],
   "source": [
    "df = pd.read_csv('medical_examination.csv')"
   ]
  },
  {
   "cell_type": "code",
   "execution_count": null,
   "metadata": {},
   "outputs": [],
   "source": [
    "df.info()"
   ]
  },
  {
   "cell_type": "code",
   "execution_count": null,
   "metadata": {},
   "outputs": [],
   "source": [
    "bmi = df['weight'] / ((df['height'] / 100) ** 2)\n",
    "df['overweight'] = bmi.apply(lambda x: 1 if x > 25 else 0)\n",
    "df['overweight']"
   ]
  },
  {
   "cell_type": "code",
   "execution_count": null,
   "metadata": {},
   "outputs": [],
   "source": [
    "#Normalize the data by making 0 always good and 1 always bad. If the value of cholesterol or gluc is 1, make the value 0. If the value is more than 1, make the value 1.\n",
    "\n",
    "def normalize_data(df, columns):\n",
    "    for column in columns:\n",
    "        df[column] = df[column].apply(lambda x: 0 if x == 1 else 1)\n",
    "    return df\n",
    "  \n",
    "normalize_data(df, ['cholesterol', 'gluc'])"
   ]
  },
  {
   "cell_type": "code",
   "execution_count": null,
   "metadata": {},
   "outputs": [],
   "source": [
    "# Create DataFrame for cat plot using `pd.melt` using just the values from 'cholesterol', 'gluc', 'smoke', 'alco', 'active', and 'overweight'.\n",
    "\n",
    "selected_columns = ['cholesterol', 'gluc', 'smoke', 'alco', 'active', 'overweight']\n",
    "melted_df = pd.melt(df, id_vars='cardio', value_vars=selected_columns)\n",
    "melted_df"
   ]
  },
  {
   "cell_type": "code",
   "execution_count": null,
   "metadata": {},
   "outputs": [],
   "source": [
    "# Group and reformat the data to split it by 'cardio'. Show the counts of each feature. You will have to rename one of the columns for the catplot to work correctly.\n",
    "grouped_df = melted_df.groupby(['cardio', 'variable', 'value'], as_index=False).size()\n",
    "\n",
    "# Rename the columns\n",
    "df_cat = grouped_df.rename(columns={'size': 'total'})\n",
    "\n",
    "# Draw the catplot with 'sns.catplot()'\n",
    "sns.catplot(x='variable', y='total', hue='value', col='cardio', data=df_cat, kind='bar')"
   ]
  },
  {
   "cell_type": "code",
   "execution_count": null,
   "metadata": {},
   "outputs": [],
   "source": [
    "#Filter diastolic pressure if it is higher than systolic \n",
    "df = df[(df['ap_lo'] <= df['ap_hi'])]"
   ]
  },
  {
   "cell_type": "code",
   "execution_count": null,
   "metadata": {},
   "outputs": [],
   "source": [
    "#calculate the BMI\n",
    "df = df[(df['weight'] >= df['weight'].quantile(0.025)) & (df['weight'] <= df['weight'].quantile(0.975))]"
   ]
  },
  {
   "cell_type": "code",
   "execution_count": null,
   "metadata": {},
   "outputs": [],
   "source": [
    "#Create a correlation matrix using the dataset. Plot the correlation matrix using seaborn's heatmap().\n",
    "#Mask the upper triangle. The chart should look like examples/Figure_2.png.\n",
    "df_heat = df.copy()\n",
    "print(df_heat)\n",
    "corr = df.corr()\n",
    "fig, ax = plt.subplots(figsize=(12, 12))\n",
    "sns.heatmap(corr, annot=True, fmt='.1f', linewidths=1, square=True, mask=np.triu(np.ones_like(corr, dtype=bool)))\n",
    "mask = np.triu(np.ones_like(corr, dtype=bool))"
   ]
  }
 ],
 "metadata": {
  "kernelspec": {
   "display_name": "Python 3",
   "language": "python",
   "name": "python3"
  },
  "language_info": {
   "codemirror_mode": {
    "name": "ipython",
    "version": 3
   },
   "file_extension": ".py",
   "mimetype": "text/x-python",
   "name": "python",
   "nbconvert_exporter": "python",
   "pygments_lexer": "ipython3",
   "version": "3.11.5"
  }
 },
 "nbformat": 4,
 "nbformat_minor": 2
}
